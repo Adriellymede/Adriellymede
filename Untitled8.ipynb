{
  "nbformat": 4,
  "nbformat_minor": 0,
  "metadata": {
    "colab": {
      "provenance": [],
      "authorship_tag": "ABX9TyNodmeJpju/f2Rv/o5I3EkS",
      "include_colab_link": true
    },
    "kernelspec": {
      "name": "python3",
      "display_name": "Python 3"
    },
    "language_info": {
      "name": "python"
    }
  },
  "cells": [
    {
      "cell_type": "markdown",
      "metadata": {
        "id": "view-in-github",
        "colab_type": "text"
      },
      "source": [
        "<a href=\"https://colab.research.google.com/github/Adriellymede/Adriellymede/blob/main/Untitled8.ipynb\" target=\"_parent\"><img src=\"https://colab.research.google.com/assets/colab-badge.svg\" alt=\"Open In Colab\"/></a>"
      ]
    },
    {
      "cell_type": "code",
      "execution_count": 9,
      "metadata": {
        "colab": {
          "base_uri": "https://localhost:8080/"
        },
        "id": "IAqcb_bk9foB",
        "outputId": "5a13a1d3-3fe5-43db-e919-18d956c98193"
      },
      "outputs": [
        {
          "output_type": "stream",
          "name": "stdout",
          "text": [
            "Digite o primeiro valor: 82\n",
            "Digite o segundo valor: 4\n",
            "Escolha a operação:\n",
            " Adição \n",
            " Subtração \n",
            " Multiplicação \n",
            " Divisão \n",
            "Divisão\n",
            "O resultado é : 20\n"
          ]
        }
      ],
      "source": [
        "v1= int(input ('Digite o primeiro valor: '))\n",
        "v2= int(input ('Digite o segundo valor: '))\n",
        "x=input('Escolha a operação:\\n Adição \\n Subtração \\n Multiplicação \\n Divisão \\n')\n",
        "if x == 'Adição':\n",
        "  print(v1+v2)\n",
        "elif x == 'Subtração':\n",
        "  print(v1-v2)\n",
        "elif x == 'Multiplicação':\n",
        "  print(v1*v2)\n",
        "elif x == 'Divisão':\n",
        "  print('O resultado é :', v1//v2)"
      ]
    }
  ]
}